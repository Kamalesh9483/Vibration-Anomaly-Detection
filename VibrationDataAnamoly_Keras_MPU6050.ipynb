{
  "nbformat": 4,
  "nbformat_minor": 0,
  "metadata": {
    "colab": {
      "name": "VibrationDataAnamoly_Keras_MPU6050.ipynb",
      "provenance": [],
      "collapsed_sections": []
    },
    "kernelspec": {
      "name": "python3",
      "display_name": "Python 3"
    },
    "language_info": {
      "name": "python"
    }
  },
  "cells": [
    {
      "cell_type": "code",
      "metadata": {
        "id": "JJZdudJfoYYw"
      },
      "source": [
        "import numpy as np\n",
        "from keras.models import Sequential\n",
        "from keras.layers import LSTM, Input, Dropout\n",
        "from keras.layers import Dense\n",
        "from keras.layers import RepeatVector\n",
        "from keras.layers import TimeDistributed\n",
        "import pandas as pd\n",
        "from matplotlib import pyplot as plt\n",
        "from sklearn.preprocessing import MinMaxScaler, StandardScaler\n",
        "import seaborn as sns\n",
        "from matplotlib.lines import Line2D\n",
        "pd.options.mode.chained_assignment = None  # default='warn'"
      ],
      "execution_count": null,
      "outputs": []
    },
    {
      "cell_type": "code",
      "metadata": {
        "id": "FkUlEmDupmBB"
      },
      "source": [
        "dataframe = pd.read_csv('/content/sensorDataWithAnamoly.csv')\n",
        "df = dataframe[['Time', 'SensorVal']]\n",
        "# df['Time'] = pd.to_datetime(df['Time'])"
      ],
      "execution_count": null,
      "outputs": []
    },
    {
      "cell_type": "code",
      "metadata": {
        "colab": {
          "base_uri": "https://localhost:8080/",
          "height": 297
        },
        "id": "jMy-ZFUHqBv3",
        "outputId": "252e2b3a-46ba-47e9-dfd9-15bb4581f400"
      },
      "source": [
        "sns.lineplot(x=df['Time'], y=df['SensorVal'])\n"
      ],
      "execution_count": null,
      "outputs": [
        {
          "output_type": "execute_result",
          "data": {
            "text/plain": [
              "<matplotlib.axes._subplots.AxesSubplot at 0x7f39f85a2bd0>"
            ]
          },
          "metadata": {
            "tags": []
          },
          "execution_count": 33
        },
        {
          "output_type": "display_data",
          "data": {
            "image/png": "[encoded data removed]",
            "text/plain": [
              "<Figure size 432x288 with 1 Axes>"
            ]
          },
          "metadata": {
            "tags": [],
            "needs_background": "light"
          }
        }
      ]
    },
    {
      "cell_type": "code",
      "metadata": {
        "colab": {
          "base_uri": "https://localhost:8080/"
        },
        "id": "U6auvH65s78s",
        "outputId": "4cabe0fe-15ab-4752-a808-142d177e6d98"
      },
      "source": [
        "print(\"start time: \", df['Time'].min())\n",
        "print(\"end time: \", df['Time'].max())"
      ],
      "execution_count": null,
      "outputs": [
        {
          "output_type": "stream",
          "text": [
            "start time:  4.734\n",
            "end time:  50.81399999999999\n"
          ],
          "name": "stdout"
        }
      ]
    },
    {
      "cell_type": "code",
      "metadata": {
        "id": "SW3DkiOvvBjv"
      },
      "source": [
        "# training and testing data split\n",
        "train, test = df.loc[df['Time'] <= 38.649], df.loc[df['Time'] > 38.649]"
      ],
      "execution_count": null,
      "outputs": []
    },
    {
      "cell_type": "code",
      "metadata": {
        "colab": {
          "base_uri": "https://localhost:8080/",
          "height": 423
        },
        "id": "8ezT4Gp1v97P",
        "outputId": "132a05dc-880e-44e3-d6af-faec53ad3113"
      },
      "source": [
        "test"
      ],
      "execution_count": null,
      "outputs": [
        {
          "output_type": "execute_result",
          "data": {
            "text/html": [
              "<div>\n",
              "<style scoped>\n",
              "    .dataframe tbody tr th:only-of-type {\n",
              "        vertical-align: middle;\n",
              "    }\n",
              "\n",
              "    .dataframe tbody tr th {\n",
              "        vertical-align: top;\n",
              "    }\n",
              "\n",
              "    .dataframe thead th {\n",
              "        text-align: right;\n",
              "    }\n",
              "</style>\n",
              "<table border=\"1\" class=\"dataframe\">\n",
              "  <thead>\n",
              "    <tr style=\"text-align: right;\">\n",
              "      <th></th>\n",
              "      <th>Time</th>\n",
              "      <th>SensorVal</th>\n",
              "    </tr>\n",
              "  </thead>\n",
              "  <tbody>\n",
              "    <tr>\n",
              "      <th>1705</th>\n",
              "      <td>38.668</td>\n",
              "      <td>1.031006</td>\n",
              "    </tr>\n",
              "    <tr>\n",
              "      <th>1706</th>\n",
              "      <td>38.687</td>\n",
              "      <td>1.011963</td>\n",
              "    </tr>\n",
              "    <tr>\n",
              "      <th>1707</th>\n",
              "      <td>38.706</td>\n",
              "      <td>1.019287</td>\n",
              "    </tr>\n",
              "    <tr>\n",
              "      <th>1708</th>\n",
              "      <td>38.725</td>\n",
              "      <td>1.025146</td>\n",
              "    </tr>\n",
              "    <tr>\n",
              "      <th>1709</th>\n",
              "      <td>38.744</td>\n",
              "      <td>1.030029</td>\n",
              "    </tr>\n",
              "    <tr>\n",
              "      <th>...</th>\n",
              "      <td>...</td>\n",
              "      <td>...</td>\n",
              "    </tr>\n",
              "    <tr>\n",
              "      <th>2269</th>\n",
              "      <td>50.734</td>\n",
              "      <td>1.011475</td>\n",
              "    </tr>\n",
              "    <tr>\n",
              "      <th>2270</th>\n",
              "      <td>50.754</td>\n",
              "      <td>1.018799</td>\n",
              "    </tr>\n",
              "    <tr>\n",
              "      <th>2271</th>\n",
              "      <td>50.774</td>\n",
              "      <td>1.004883</td>\n",
              "    </tr>\n",
              "    <tr>\n",
              "      <th>2272</th>\n",
              "      <td>50.794</td>\n",
              "      <td>1.015137</td>\n",
              "    </tr>\n",
              "    <tr>\n",
              "      <th>2273</th>\n",
              "      <td>50.814</td>\n",
              "      <td>1.028320</td>\n",
              "    </tr>\n",
              "  </tbody>\n",
              "</table>\n",
              "<p>569 rows × 2 columns</p>\n",
              "</div>"
            ],
            "text/plain": [
              "        Time  SensorVal\n",
              "1705  38.668   1.031006\n",
              "1706  38.687   1.011963\n",
              "1707  38.706   1.019287\n",
              "1708  38.725   1.025146\n",
              "1709  38.744   1.030029\n",
              "...      ...        ...\n",
              "2269  50.734   1.011475\n",
              "2270  50.754   1.018799\n",
              "2271  50.774   1.004883\n",
              "2272  50.794   1.015137\n",
              "2273  50.814   1.028320\n",
              "\n",
              "[569 rows x 2 columns]"
            ]
          },
          "metadata": {
            "tags": []
          },
          "execution_count": 36
        }
      ]
    },
    {
      "cell_type": "markdown",
      "metadata": {
        "id": "wKlKQDWyxW_R"
      },
      "source": [
        "# Standard scaler:\n",
        "#many elements used in the objective function of a learning algorithm (such as the RBF kernel of Support Vector Machines or the l1 and l2 regularizers of linear models) assume that all features are centered around zero and have variance in the same order. If a feature has a variance that is orders of magnitude larger than others, it might dominate the objective function and make the estimator unable to learn from other features correctly as expected\n",
        "\n",
        "---\n",
        "\n",
        "\n",
        "\n",
        "---\n",
        "\n",
        "\n",
        "\n",
        "---\n",
        "\n"
      ]
    },
    {
      "cell_type": "code",
      "metadata": {
        "id": "kf3L6-iXxsW-"
      },
      "source": [
        "# Normalizing done to standardize the data -- (x-mu)/(sigma)\n",
        "scaler = StandardScaler()\n",
        "scaler = scaler.fit(train[['SensorVal']])"
      ],
      "execution_count": null,
      "outputs": []
    },
    {
      "cell_type": "code",
      "metadata": {
        "id": "msoPbO0PyAjR"
      },
      "source": [
        "train['SensorVal'] = scaler.transform(train[['SensorVal']])\n",
        "test['SensorVal'] = scaler.transform(test[['SensorVal']])"
      ],
      "execution_count": null,
      "outputs": []
    },
    {
      "cell_type": "code",
      "metadata": {
        "id": "jZ6gPKlryrxr"
      },
      "source": [
        "# https://stackoverflow.com/questions/54235845/what-exactly-is-timestep-in-an-lstm-model (for LSTM time steps)"
      ],
      "execution_count": null,
      "outputs": []
    },
    {
      "cell_type": "code",
      "metadata": {
        "id": "XsyhQvu0yt9P"
      },
      "source": [
        "seq_size = 30 # Number of time steps \n"
      ],
      "execution_count": null,
      "outputs": []
    },
    {
      "cell_type": "code",
      "metadata": {
        "id": "UuoStoCJO1zm"
      },
      "source": [
        "# x is sequence, y is what comes next in sequence\n",
        "def to_sequences(x, y, seq_size = 1):\n",
        "  x_values = []\n",
        "  y_values =[]\n",
        "  for i in range(len(x)-seq_size):\n",
        "    x_values.append(x.iloc[i:(i+seq_size)].values)\n",
        "    y_values.append(y.iloc[i+seq_size])\n",
        "  return np.array(x_values), np.array(y_values)\n"
      ],
      "execution_count": null,
      "outputs": []
    },
    {
      "cell_type": "code",
      "metadata": {
        "id": "A7NUMNsWP6fp"
      },
      "source": [
        "trainX, trainY = to_sequences(train[['SensorVal']], train['SensorVal'], seq_size)\n",
        "testX, testY = to_sequences(test[['SensorVal']], test['SensorVal'], seq_size)"
      ],
      "execution_count": null,
      "outputs": []
    },
    {
      "cell_type": "code",
      "metadata": {
        "colab": {
          "base_uri": "https://localhost:8080/"
        },
        "id": "jbivuDqrSIgo",
        "outputId": "3c0139cf-316e-4187-ef77-089600fe04e5"
      },
      "source": [
        "# https://stackoverflow.com/questions/45278286/how-to-choose-lstm-keras-parameters\n",
        "# https://stackoverflow.com/questions/10200268/what-does-shape-do-in-for-i-in-rangey-shape0/21200291\n",
        "model = Sequential()\n",
        "model.add(LSTM(128, input_shape=(trainX.shape[1], trainX.shape[2])))\n",
        "model.add(Dropout(rate=0.2))\n",
        "model.add(RepeatVector(trainX.shape[1]))\n",
        "model.add(TimeDistributed((Dense(trainX.shape[2]))))\n",
        "model.compile(optimizer='adam', loss='mae')\n",
        "model.summary()"
      ],
      "execution_count": null,
      "outputs": [
        {
          "output_type": "stream",
          "text": [
            "Model: \"sequential_1\"\n",
            "_________________________________________________________________\n",
            "Layer (type)                 Output Shape              Param #   \n",
            "=================================================================\n",
            "lstm_1 (LSTM)                (None, 128)               66560     \n",
            "_________________________________________________________________\n",
            "dropout_1 (Dropout)          (None, 128)               0         \n",
            "_________________________________________________________________\n",
            "repeat_vector_1 (RepeatVecto (None, 30, 128)           0         \n",
            "_________________________________________________________________\n",
            "time_distributed_1 (TimeDist (None, 30, 1)             129       \n",
            "=================================================================\n",
            "Total params: 66,689\n",
            "Trainable params: 66,689\n",
            "Non-trainable params: 0\n",
            "_________________________________________________________________\n"
          ],
          "name": "stdout"
        }
      ]
    },
    {
      "cell_type": "code",
      "metadata": {
        "id": "I7839xROSJ5u",
        "colab": {
          "base_uri": "https://localhost:8080/"
        },
        "outputId": "3525687c-8ea7-4d07-85fe-7e9564c485e4"
      },
      "source": [
        "# model fit\n",
        "history = model.fit(trainX, trainY, epochs=60, batch_size=32, validation_split=0.1, verbose=1)"
      ],
      "execution_count": null,
      "outputs": [
        {
          "output_type": "stream",
          "text": [
            "Epoch 1/60\n",
            "48/48 [==============================] - 1s 31ms/step - loss: 0.1319 - val_loss: 0.6395\n",
            "Epoch 2/60\n",
            "48/48 [==============================] - 1s 30ms/step - loss: 0.1307 - val_loss: 0.6414\n",
            "Epoch 3/60\n",
            "48/48 [==============================] - 1s 31ms/step - loss: 0.1293 - val_loss: 0.6406\n",
            "Epoch 4/60\n",
            "48/48 [==============================] - 1s 30ms/step - loss: 0.1303 - val_loss: 0.6453\n",
            "Epoch 5/60\n",
            "48/48 [==============================] - 1s 31ms/step - loss: 0.1288 - val_loss: 0.6565\n",
            "Epoch 6/60\n",
            "48/48 [==============================] - 1s 31ms/step - loss: 0.1287 - val_loss: 0.6583\n",
            "Epoch 7/60\n",
            "48/48 [==============================] - 1s 30ms/step - loss: 0.1304 - val_loss: 0.6524\n",
            "Epoch 8/60\n",
            "48/48 [==============================] - 1s 30ms/step - loss: 0.1299 - val_loss: 0.6479\n",
            "Epoch 9/60\n",
            "48/48 [==============================] - 1s 31ms/step - loss: 0.1291 - val_loss: 0.6416\n",
            "Epoch 10/60\n",
            "48/48 [==============================] - 1s 30ms/step - loss: 0.1288 - val_loss: 0.6461\n",
            "Epoch 11/60\n",
            "48/48 [==============================] - 1s 30ms/step - loss: 0.1276 - val_loss: 0.6484\n",
            "Epoch 12/60\n",
            "48/48 [==============================] - 1s 30ms/step - loss: 0.1292 - val_loss: 0.6534\n",
            "Epoch 13/60\n",
            "48/48 [==============================] - 1s 30ms/step - loss: 0.1280 - val_loss: 0.6554\n",
            "Epoch 14/60\n",
            "48/48 [==============================] - 1s 30ms/step - loss: 0.1291 - val_loss: 0.6355\n",
            "Epoch 15/60\n",
            "48/48 [==============================] - 1s 30ms/step - loss: 0.1287 - val_loss: 0.6479\n",
            "Epoch 16/60\n",
            "48/48 [==============================] - 1s 31ms/step - loss: 0.1286 - val_loss: 0.6497\n",
            "Epoch 17/60\n",
            "48/48 [==============================] - 1s 30ms/step - loss: 0.1274 - val_loss: 0.6360\n",
            "Epoch 18/60\n",
            "48/48 [==============================] - 1s 30ms/step - loss: 0.1313 - val_loss: 0.6461\n",
            "Epoch 19/60\n",
            "48/48 [==============================] - 1s 30ms/step - loss: 0.1306 - val_loss: 0.6470\n",
            "Epoch 20/60\n",
            "48/48 [==============================] - 1s 30ms/step - loss: 0.1282 - val_loss: 0.6545\n",
            "Epoch 21/60\n",
            "48/48 [==============================] - 1s 30ms/step - loss: 0.1281 - val_loss: 0.6432\n",
            "Epoch 22/60\n",
            "48/48 [==============================] - 1s 30ms/step - loss: 0.1286 - val_loss: 0.6486\n",
            "Epoch 23/60\n",
            "48/48 [==============================] - 1s 31ms/step - loss: 0.1264 - val_loss: 0.6479\n",
            "Epoch 24/60\n",
            "48/48 [==============================] - 1s 30ms/step - loss: 0.1265 - val_loss: 0.6531\n",
            "Epoch 25/60\n",
            "48/48 [==============================] - 2s 31ms/step - loss: 0.1259 - val_loss: 0.6411\n",
            "Epoch 26/60\n",
            "48/48 [==============================] - 1s 30ms/step - loss: 0.1262 - val_loss: 0.6524\n",
            "Epoch 27/60\n",
            "48/48 [==============================] - 1s 31ms/step - loss: 0.1268 - val_loss: 0.6466\n",
            "Epoch 28/60\n",
            "48/48 [==============================] - 1s 31ms/step - loss: 0.1272 - val_loss: 0.6557\n",
            "Epoch 29/60\n",
            "48/48 [==============================] - 1s 30ms/step - loss: 0.1285 - val_loss: 0.6518\n",
            "Epoch 30/60\n",
            "48/48 [==============================] - 1s 30ms/step - loss: 0.1266 - val_loss: 0.6638\n",
            "Epoch 31/60\n",
            "48/48 [==============================] - 1s 30ms/step - loss: 0.1268 - val_loss: 0.6562\n",
            "Epoch 32/60\n",
            "48/48 [==============================] - 1s 30ms/step - loss: 0.1264 - val_loss: 0.6491\n",
            "Epoch 33/60\n",
            "48/48 [==============================] - 1s 30ms/step - loss: 0.1275 - val_loss: 0.6485\n",
            "Epoch 34/60\n",
            "48/48 [==============================] - 1s 30ms/step - loss: 0.1280 - val_loss: 0.6426\n",
            "Epoch 35/60\n",
            "48/48 [==============================] - 1s 30ms/step - loss: 0.1258 - val_loss: 0.6487\n",
            "Epoch 36/60\n",
            "48/48 [==============================] - 1s 30ms/step - loss: 0.1272 - val_loss: 0.6400\n",
            "Epoch 37/60\n",
            "48/48 [==============================] - 1s 31ms/step - loss: 0.1270 - val_loss: 0.6451\n",
            "Epoch 38/60\n",
            "48/48 [==============================] - 1s 30ms/step - loss: 0.1271 - val_loss: 0.6437\n",
            "Epoch 39/60\n",
            "48/48 [==============================] - 1s 30ms/step - loss: 0.1250 - val_loss: 0.6369\n",
            "Epoch 40/60\n",
            "48/48 [==============================] - 1s 31ms/step - loss: 0.1289 - val_loss: 0.6391\n",
            "Epoch 41/60\n",
            "48/48 [==============================] - 1s 31ms/step - loss: 0.1260 - val_loss: 0.6375\n",
            "Epoch 42/60\n",
            "48/48 [==============================] - 1s 31ms/step - loss: 0.1251 - val_loss: 0.6455\n",
            "Epoch 43/60\n",
            "48/48 [==============================] - 1s 31ms/step - loss: 0.1248 - val_loss: 0.6449\n",
            "Epoch 44/60\n",
            "48/48 [==============================] - 1s 31ms/step - loss: 0.1261 - val_loss: 0.6404\n",
            "Epoch 45/60\n",
            "48/48 [==============================] - 1s 31ms/step - loss: 0.1252 - val_loss: 0.6373\n",
            "Epoch 46/60\n",
            "48/48 [==============================] - 1s 31ms/step - loss: 0.1250 - val_loss: 0.6330\n",
            "Epoch 47/60\n",
            "48/48 [==============================] - 1s 30ms/step - loss: 0.1239 - val_loss: 0.6333\n",
            "Epoch 48/60\n",
            "48/48 [==============================] - 1s 30ms/step - loss: 0.1257 - val_loss: 0.6398\n",
            "Epoch 49/60\n",
            "48/48 [==============================] - 1s 30ms/step - loss: 0.1246 - val_loss: 0.6375\n",
            "Epoch 50/60\n",
            "48/48 [==============================] - 1s 30ms/step - loss: 0.1243 - val_loss: 0.6504\n",
            "Epoch 51/60\n",
            "48/48 [==============================] - 1s 31ms/step - loss: 0.1232 - val_loss: 0.6455\n",
            "Epoch 52/60\n",
            "48/48 [==============================] - 1s 31ms/step - loss: 0.1237 - val_loss: 0.6452\n",
            "Epoch 53/60\n",
            "48/48 [==============================] - 1s 30ms/step - loss: 0.1240 - val_loss: 0.6422\n",
            "Epoch 54/60\n",
            "48/48 [==============================] - 1s 30ms/step - loss: 0.1224 - val_loss: 0.6435\n",
            "Epoch 55/60\n",
            "48/48 [==============================] - 1s 30ms/step - loss: 0.1235 - val_loss: 0.6421\n",
            "Epoch 56/60\n",
            "48/48 [==============================] - 1s 30ms/step - loss: 0.1237 - val_loss: 0.6412\n",
            "Epoch 57/60\n",
            "48/48 [==============================] - 1s 30ms/step - loss: 0.1238 - val_loss: 0.6439\n",
            "Epoch 58/60\n",
            "48/48 [==============================] - 1s 30ms/step - loss: 0.1222 - val_loss: 0.6358\n",
            "Epoch 59/60\n",
            "48/48 [==============================] - 1s 30ms/step - loss: 0.1236 - val_loss: 0.6422\n",
            "Epoch 60/60\n",
            "48/48 [==============================] - 1s 30ms/step - loss: 0.1235 - val_loss: 0.6423\n"
          ],
          "name": "stdout"
        }
      ]
    },
    {
      "cell_type": "code",
      "metadata": {
        "colab": {
          "base_uri": "https://localhost:8080/",
          "height": 283
        },
        "id": "IWrhW7Ol57t7",
        "outputId": "bb9439e9-6013-4c9c-b419-00f50650e641"
      },
      "source": [
        "plt.plot(history.history['loss'], label='Training loss')\n",
        "plt.plot(history.history['val_loss'], label= 'Validation loss')\n",
        "plt.legend()"
      ],
      "execution_count": null,
      "outputs": [
        {
          "output_type": "execute_result",
          "data": {
            "text/plain": [
              "<matplotlib.legend.Legend at 0x7f39f8ab9b10>"
            ]
          },
          "metadata": {
            "tags": []
          },
          "execution_count": 79
        },
        {
          "output_type": "display_data",
          "data": {
            "image/png": "[encoded data removed]",
            "text/plain": [
              "<Figure size 432x288 with 1 Axes>"
            ]
          },
          "metadata": {
            "tags": [],
            "needs_background": "light"
          }
        }
      ]
    },
    {
      "cell_type": "code",
      "metadata": {
        "colab": {
          "base_uri": "https://localhost:8080/",
          "height": 265
        },
        "id": "CsyW2QHl7naG",
        "outputId": "6a8c3b6e-0662-4602-cfff-d84aa519d03f"
      },
      "source": [
        "# Anamoly is where reconstruction error is large\n",
        "# value can be defined, beyond which it is called anamoly\n",
        "# MAE - mean absolue error is calculated\n",
        "trainPredict = model.predict(trainX)\n",
        "trainMAE = np.mean(np.abs(trainPredict - trainX), axis =1)\n",
        "plt.hist(trainMAE, bins=30)\n",
        "max_trainMAE = 1.25 # max threshold "
      ],
      "execution_count": null,
      "outputs": [
        {
          "output_type": "display_data",
          "data": {
            "image/png": "[encoded data removed]",
            "text/plain": [
              "<Figure size 432x288 with 1 Axes>"
            ]
          },
          "metadata": {
            "tags": [],
            "needs_background": "light"
          }
        }
      ]
    },
    {
      "cell_type": "code",
      "metadata": {
        "colab": {
          "base_uri": "https://localhost:8080/",
          "height": 457
        },
        "id": "4SDZOg-i9GP3",
        "outputId": "91f053ab-f5f5-4492-9d01-ff6cc569261b"
      },
      "source": [
        "testPredict = model.predict(testX)\n",
        "testMAE = np.mean(np.abs(testPredict - testX), axis=1)\n",
        "plt.hist(testMAE, bins=30)"
      ],
      "execution_count": null,
      "outputs": [
        {
          "output_type": "execute_result",
          "data": {
            "text/plain": [
              "(array([387.,  25.,   4.,   5.,  49.,  51.,   2.,   2.,   3.,   2.,   1.,\n",
              "          1.,   1.,   0.,   0.,   1.,   0.,   0.,   1.,   0.,   0.,   0.,\n",
              "          1.,   0.,   0.,   0.,   0.,   0.,   0.,   3.]),\n",
              " array([0.01606234, 0.10946994, 0.20287755, 0.29628516, 0.38969276,\n",
              "        0.48310037, 0.57650798, 0.66991558, 0.76332319, 0.8567308 ,\n",
              "        0.9501384 , 1.04354601, 1.13695362, 1.23036122, 1.32376883,\n",
              "        1.41717644, 1.51058404, 1.60399165, 1.69739926, 1.79080686,\n",
              "        1.88421447, 1.97762207, 2.07102968, 2.16443729, 2.25784489,\n",
              "        2.3512525 , 2.44466011, 2.53806771, 2.63147532, 2.72488293,\n",
              "        2.81829053]),\n",
              " <a list of 30 Patch objects>)"
            ]
          },
          "metadata": {
            "tags": []
          },
          "execution_count": 48
        },
        {
          "output_type": "display_data",
          "data": {
            "image/png": "[encoded data removed]",
            "text/plain": [
              "<Figure size 432x288 with 1 Axes>"
            ]
          },
          "metadata": {
            "tags": [],
            "needs_background": "light"
          }
        }
      ]
    },
    {
      "cell_type": "code",
      "metadata": {
        "id": "AG3DDp37-SQa"
      },
      "source": [
        "#DataFrame\n",
        "anamoly_df = pd.DataFrame(test[seq_size:])\n",
        "anamoly_df['testMAE'] = testMAE\n",
        "anamoly_df['max_trainMAE'] = max_trainMAE\n",
        "anamoly_df['anamoly'] = anamoly_df['testMAE'] > anamoly_df['max_trainMAE']\n",
        "anamoly_df['SensorVal'] = test[seq_size:]['SensorVal']"
      ],
      "execution_count": null,
      "outputs": []
    },
    {
      "cell_type": "code",
      "metadata": {
        "colab": {
          "base_uri": "https://localhost:8080/",
          "height": 297
        },
        "id": "d3Djo-MZ_EJc",
        "outputId": "45365258-da5b-422d-baae-3b47a09978e4"
      },
      "source": [
        "# plot testMAE vs max_trainMAE\n",
        "sns.lineplot(x=anamoly_df['Time'], y=anamoly_df['testMAE'])\n",
        "sns.lineplot(x=anamoly_df['Time'], y=anamoly_df['max_trainMAE'])"
      ],
      "execution_count": null,
      "outputs": [
        {
          "output_type": "execute_result",
          "data": {
            "text/plain": [
              "<matplotlib.axes._subplots.AxesSubplot at 0x7f39f66e9850>"
            ]
          },
          "metadata": {
            "tags": []
          },
          "execution_count": 50
        },
        {
          "output_type": "display_data",
          "data": {
            "image/png": "[encoded data removed]",
            "text/plain": [
              "<Figure size 432x288 with 1 Axes>"
            ]
          },
          "metadata": {
            "tags": [],
            "needs_background": "light"
          }
        }
      ]
    },
    {
      "cell_type": "code",
      "metadata": {
        "id": "icG0NmNl_rMt"
      },
      "source": [
        "anomalies = anamoly_df.loc[anamoly_df['anamoly'] == True]"
      ],
      "execution_count": null,
      "outputs": []
    },
    {
      "cell_type": "code",
      "metadata": {
        "colab": {
          "base_uri": "https://localhost:8080/",
          "height": 297
        },
        "id": "FHMkSogiAGrk",
        "outputId": "610b9fa9-7cb6-49ca-ba11-68ec75d14fa2"
      },
      "source": [
        "# plotting anamoly\n",
        "sns.lineplot(x=anamoly_df['Time'], y=scaler.inverse_transform(anamoly_df['SensorVal']))\n",
        "sns.scatterplot(x=anomalies['Time'], y=scaler.inverse_transform(anomalies['SensorVal']), color='r')"
      ],
      "execution_count": null,
      "outputs": [
        {
          "output_type": "execute_result",
          "data": {
            "text/plain": [
              "<matplotlib.axes._subplots.AxesSubplot at 0x7f3a094d6c10>"
            ]
          },
          "metadata": {
            "tags": []
          },
          "execution_count": 81
        },
        {
          "output_type": "display_data",
          "data": {
            "image/png": "[encoded data removed]",
            "text/plain": [
              "<Figure size 432x288 with 1 Axes>"
            ]
          },
          "metadata": {
            "tags": [],
            "needs_background": "light"
          }
        }
      ]
    },
    {
      "cell_type": "code",
      "metadata": {
        "colab": {
          "base_uri": "https://localhost:8080/",
          "height": 297
        },
        "id": "So3US8ynDTHE",
        "outputId": "4e9a87b0-6e43-4a7b-db1a-e8ced1a80d5b"
      },
      "source": [
        "# plotting anamoly\n",
        "sns.lineplot(x=anamoly_df['Time'], y=scaler.inverse_transform(anamoly_df['SensorVal']))\n",
        "sns.scatterplot(x=anomalies['Time'], y=scaler.inverse_transform(anomalies['SensorVal']), color='r')"
      ],
      "execution_count": null,
      "outputs": [
        {
          "output_type": "execute_result",
          "data": {
            "text/plain": [
              "<matplotlib.axes._subplots.AxesSubplot at 0x7f39f66e0ed0>"
            ]
          },
          "metadata": {
            "tags": []
          },
          "execution_count": 77
        },
        {
          "output_type": "display_data",
          "data": {
            "image/png": "[encoded data removed]",
            "text/plain": [
              "<Figure size 432x288 with 1 Axes>"
            ]
          },
          "metadata": {
            "tags": [],
            "needs_background": "light"
          }
        }
      ]
    }
  ]
}